{
 "cells": [
  {
   "cell_type": "code",
   "execution_count": 1,
   "metadata": {},
   "outputs": [],
   "source": [
    "from tsimcne import TSimCNE\n",
    "from torchvision.datasets import ImageFolder\n",
    "from torchvision import transforms\n",
    "from matplotlib import pyplot as plt\n",
    "import numpy as np"
   ]
  },
  {
   "cell_type": "code",
   "execution_count": null,
   "metadata": {},
   "outputs": [],
   "source": [
    "tsimcne_data = ImageFolder(\"../data/example_rfs\", transform=transforms.Compose([transforms.ToTensor(), transforms.Resize((32,32), antialias=False, interpolation=transforms.InterpolationMode.NEAREST), transforms.ToPILImage()]))\n",
    "tsimcne = TSimCNE(total_epochs=[50,10,25])\n",
    "tsimcne.fit(tsimcne_data)"
   ]
  },
  {
   "cell_type": "code",
   "execution_count": null,
   "metadata": {},
   "outputs": [],
   "source": [
    "tsimcne_test = ImageFolder(\"../data/example_rfs2\", transform=transforms.Compose([transforms.ToTensor(), transforms.Resize((32,32), antialias=False, interpolation=transforms.InterpolationMode.NEAREST), transforms.ToPILImage()]))\n",
    "Y = tsimcne.transform(tsimcne_test)"
   ]
  },
  {
   "cell_type": "code",
   "execution_count": null,
   "metadata": {},
   "outputs": [],
   "source": [
    "# plot the data\n",
    "subsets = [[0,1,2,5,3,4,6]]\n",
    "fig, axes = plt.subplots(nrows=1, ncols=len(subsets),figsize=(len(subsets)*10,10))\n",
    "if len(subsets)==1:\n",
    "    axes = [axes]\n",
    "for subset, ax in zip(subsets, axes):\n",
    "    filter = np.array([elem[1] in subset for elem in tsimcne_test])\n",
    "    c = np.array([elem[1] for elem in tsimcne_test])[filter]\n",
    "    scatter = ax.scatter(Y[filter].T[0],Y[filter].T[1], c=c, cmap=\"Set1\", alpha=0.5)\n",
    "    ax.legend(labels=[tsimcne_test.classes[i] for i in subset], handles=scatter.legend_elements()[0])\n",
    "plt.show()"
   ]
  }
 ],
 "metadata": {
  "kernelspec": {
   "display_name": "rf-classifier",
   "language": "python",
   "name": "python3"
  },
  "language_info": {
   "codemirror_mode": {
    "name": "ipython",
    "version": 3
   },
   "file_extension": ".py",
   "mimetype": "text/x-python",
   "name": "python",
   "nbconvert_exporter": "python",
   "pygments_lexer": "ipython3",
   "version": "3.1.undefined"
  }
 },
 "nbformat": 4,
 "nbformat_minor": 2
}
