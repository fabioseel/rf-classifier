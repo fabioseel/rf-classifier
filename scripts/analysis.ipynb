{
 "cells": [
  {
   "cell_type": "code",
   "execution_count": null,
   "metadata": {},
   "outputs": [
    {
     "ename": "",
     "evalue": "",
     "output_type": "error",
     "traceback": [
      "\u001b[1;31mFailed to start the Kernel. \n",
      "\u001b[1;31m'_xsrf' argument missing from POST. \n",
      "\u001b[1;31mView Jupyter <a href='command:jupyter.viewOutput'>log</a> for further details."
     ]
    }
   ],
   "source": [
    "from rf_classifier.models import CNNClassifier\n",
    "from torchvision.datasets import ImageFolder\n",
    "from torchvision import transforms\n",
    "from torch.utils.data.dataloader import DataLoader\n",
    "from rf_classifier.transforms import RandomAffine, ColorRescale, RandomColorRescale\n",
    "from torch.optim import AdamW, SGD\n",
    "import torch\n",
    "import imageio as iio\n",
    "import matplotlib.pyplot as plt\n",
    "from rf_classifier.rf_generator import center_surround, gabor_kernel, greyscale_to_color, noise, decorrelated_color_noise, color, mult_freq, simple_edge\n",
    "from rf_classifier.train import validate, ensemble_validate\n",
    "from rf_classifier.datasets import SyntheticRFsDataset\n",
    "import numpy as np\n",
    "from sklearn.metrics import confusion_matrix\n",
    "import seaborn as sns\n",
    "import os\n",
    "from sklearn.manifold import TSNE"
   ]
  },
  {
   "cell_type": "code",
   "execution_count": null,
   "metadata": {},
   "outputs": [
    {
     "ename": "",
     "evalue": "",
     "output_type": "error",
     "traceback": [
      "\u001b[1;31mFailed to start the Kernel. \n",
      "\u001b[1;31m'_xsrf' argument missing from POST. \n",
      "\u001b[1;31mView Jupyter <a href='command:jupyter.viewOutput'>log</a> for further details."
     ]
    }
   ],
   "source": [
    "for i in range(torch.cuda.device_count()):\n",
    "   print(torch.cuda.get_device_properties(i))"
   ]
  },
  {
   "cell_type": "code",
   "execution_count": null,
   "metadata": {},
   "outputs": [
    {
     "ename": "",
     "evalue": "",
     "output_type": "error",
     "traceback": [
      "\u001b[1;31mFailed to start the Kernel. \n",
      "\u001b[1;31m'_xsrf' argument missing from POST. \n",
      "\u001b[1;31mView Jupyter <a href='command:jupyter.viewOutput'>log</a> for further details."
     ]
    }
   ],
   "source": [
    "if torch.cuda.is_available():\n",
    "  dev = \"cuda:0\"\n",
    "else:\n",
    "  dev = \"cpu\"\n",
    "device = torch.device(dev)\n",
    "print(\"Using\", device)"
   ]
  },
  {
   "cell_type": "code",
   "execution_count": null,
   "metadata": {},
   "outputs": [
    {
     "ename": "",
     "evalue": "",
     "output_type": "error",
     "traceback": [
      "\u001b[1;31mFailed to start the Kernel. \n",
      "\u001b[1;31m'_xsrf' argument missing from POST. \n",
      "\u001b[1;31mView Jupyter <a href='command:jupyter.viewOutput'>log</a> for further details."
     ]
    }
   ],
   "source": [
    "inp_transform = transforms.Compose(\n",
    "    [\n",
    "        transforms.Resize(\n",
    "            (32, 32), antialias=True, interpolation=transforms.InterpolationMode.NEAREST\n",
    "        ),\n",
    "        ColorRescale(-1, 1),\n",
    "        # transforms.Grayscale(3)\n",
    "    ]\n",
    ")\n",
    "\n",
    "img_transforms = transforms.Compose([transforms.ToTensor(), inp_transform])\n",
    "\n",
    "synth_data = SyntheticRFsDataset(num_samples_per_class=1000, transform=inp_transform)\n",
    "data = ImageFolder(\"../data/cnn_rfs/dataset01_v0.1\", transform=img_transforms)\n",
    "new_data = ImageFolder(\"../data/cnn_rfs/dataset02_v0.1\", transform=img_transforms)\n",
    "dataloader = DataLoader(new_data, batch_size=592)\n",
    "id_to_class = {data.class_to_idx[class_name]: class_name for class_name in data.class_to_idx}"
   ]
  },
  {
   "cell_type": "code",
   "execution_count": null,
   "metadata": {},
   "outputs": [
    {
     "ename": "",
     "evalue": "",
     "output_type": "error",
     "traceback": [
      "\u001b[1;31mFailed to start the Kernel. \n",
      "\u001b[1;31m'_xsrf' argument missing from POST. \n",
      "\u001b[1;31mView Jupyter <a href='command:jupyter.viewOutput'>log</a> for further details."
     ]
    }
   ],
   "source": [
    "classifiers = []\n",
    "ensemble_models = []\n",
    "ensemble_models = [\"../weights/cnn_classifier/noisy_mixed_classifier\"+str(i+1)+\".pth\" for i in range(0,5)]\n",
    "# ensemble_models.append(\"../weights/cnn_classifier/mixed_classifier2.pth\")\n",
    "# ensemble_models.append(\"../weights/cnn_classifier/mixed_classifier.pth\")\n",
    "# ensemble_models.append(\"../weights/cnn_classifier/greyscale_classifier.pth\")\n",
    "# ensemble_models.append(\"../weights/cnn_classifier/rf2_new_classifier.pth\")\n",
    "for model_path in ensemble_models:\n",
    "    model_name = os.path.split(model_path)[1]\n",
    "    classifier = CNNClassifier(n_classes=len(data.classes))\n",
    "    classifier.name = model_name\n",
    "    classifier.load_state_dict(torch.load(model_path))\n",
    "    classifier.to(device)\n",
    "    classifier.eval()\n",
    "    classifiers.append(classifier)"
   ]
  },
  {
   "cell_type": "code",
   "execution_count": null,
   "metadata": {},
   "outputs": [
    {
     "ename": "",
     "evalue": "",
     "output_type": "error",
     "traceback": [
      "\u001b[1;31mFailed to start the Kernel. \n",
      "\u001b[1;31m'_xsrf' argument missing from POST. \n",
      "\u001b[1;31mView Jupyter <a href='command:jupyter.viewOutput'>log</a> for further details."
     ]
    }
   ],
   "source": [
    "dataset_id = 10\n",
    "test_img, label = data[dataset_id]\n",
    "\n",
    "fig,axes = plt.subplots(1,2, figsize=(10,5))\n",
    "axes[0].imshow(ColorRescale()(test_img.movedim(0,2)))\n",
    "result = classifier(test_img[None].to(torch.float).to(device))\n",
    "result_id = result.argmax().item()\n",
    "axes[0].set_title(id_to_class[label] + \", \" + id_to_class[result_id] + \", {:.0%}\".format(result[0,result_id]))\n",
    "axes[0].set_axis_off()\n",
    "axes[1].bar(data.classes,result[0].detach().cpu())\n",
    "plt.xticks(rotation=90)\n",
    "plt.show()"
   ]
  },
  {
   "cell_type": "code",
   "execution_count": null,
   "metadata": {},
   "outputs": [
    {
     "ename": "",
     "evalue": "",
     "output_type": "error",
     "traceback": [
      "\u001b[1;31mFailed to start the Kernel. \n",
      "\u001b[1;31m'_xsrf' argument missing from POST. \n",
      "\u001b[1;31mView Jupyter <a href='command:jupyter.viewOutput'>log</a> for further details."
     ]
    }
   ],
   "source": [
    "fig, axes = plt.subplots(1,len(classifiers), figsize = (len(classifiers*5), 4))\n",
    "if len(classifiers) == 1:\n",
    "    axes = [axes]\n",
    "for i, (ax, classifier) in enumerate(zip(axes,classifiers)):\n",
    "    acc, outputs, labels = validate(classifier, dataloader, device)\n",
    "    outputs, labels = np.array(outputs), np.array(labels)\n",
    "    predicted = np.argmax(outputs, 1)\n",
    "    conf_matrix = confusion_matrix(labels, predicted, normalize='true')\n",
    "    sns.heatmap(conf_matrix, xticklabels = data.classes, yticklabels= data.classes, annot=True, ax = ax)\n",
    "    if i!=0:\n",
    "        ax.sharey(axes[0])\n",
    "        ax.get_yaxis().set_visible(False)\n",
    "    else:\n",
    "        ax.set_ylabel(\"True\")\n",
    "    ax.set_xlabel(\"Predicted\")\n",
    "    ax.set_title(classifier.name)\n",
    "plt.show()"
   ]
  },
  {
   "cell_type": "code",
   "execution_count": null,
   "metadata": {},
   "outputs": [
    {
     "ename": "",
     "evalue": "",
     "output_type": "error",
     "traceback": [
      "\u001b[1;31mFailed to start the Kernel. \n",
      "\u001b[1;31m'_xsrf' argument missing from POST. \n",
      "\u001b[1;31mView Jupyter <a href='command:jupyter.viewOutput'>log</a> for further details."
     ]
    }
   ],
   "source": [
    "acc, outputs, labels = ensemble_validate(classifiers, dataloader, device, method=\"mean\")"
   ]
  },
  {
   "cell_type": "code",
   "execution_count": null,
   "metadata": {},
   "outputs": [
    {
     "ename": "",
     "evalue": "",
     "output_type": "error",
     "traceback": [
      "\u001b[1;31mFailed to start the Kernel. \n",
      "\u001b[1;31m'_xsrf' argument missing from POST. \n",
      "\u001b[1;31mView Jupyter <a href='command:jupyter.viewOutput'>log</a> for further details."
     ]
    }
   ],
   "source": [
    "outputs, labels = np.array(outputs), np.array(labels)\n",
    "predicted = np.argmax(outputs, 1)"
   ]
  },
  {
   "cell_type": "code",
   "execution_count": null,
   "metadata": {},
   "outputs": [
    {
     "ename": "",
     "evalue": "",
     "output_type": "error",
     "traceback": [
      "\u001b[1;31mFailed to start the Kernel. \n",
      "\u001b[1;31m'_xsrf' argument missing from POST. \n",
      "\u001b[1;31mView Jupyter <a href='command:jupyter.viewOutput'>log</a> for further details."
     ]
    }
   ],
   "source": [
    "print(acc)"
   ]
  },
  {
   "cell_type": "code",
   "execution_count": null,
   "metadata": {},
   "outputs": [
    {
     "ename": "",
     "evalue": "",
     "output_type": "error",
     "traceback": [
      "\u001b[1;31mFailed to start the Kernel. \n",
      "\u001b[1;31m'_xsrf' argument missing from POST. \n",
      "\u001b[1;31mView Jupyter <a href='command:jupyter.viewOutput'>log</a> for further details."
     ]
    }
   ],
   "source": [
    "conf_matrix = confusion_matrix(labels, predicted, normalize='true')\n",
    "sns.heatmap(conf_matrix, xticklabels = data.classes, yticklabels= data.classes, annot=True)\n",
    "plt.ylabel(\"True\")\n",
    "plt.xlabel(\"Predicted\")\n",
    "plt.title(\"Ensemble\")\n",
    "plt.show()"
   ]
  },
  {
   "cell_type": "code",
   "execution_count": null,
   "metadata": {},
   "outputs": [
    {
     "ename": "",
     "evalue": "",
     "output_type": "error",
     "traceback": [
      "\u001b[1;31mFailed to start the Kernel. \n",
      "\u001b[1;31m'_xsrf' argument missing from POST. \n",
      "\u001b[1;31mView Jupyter <a href='command:jupyter.viewOutput'>log</a> for further details."
     ]
    }
   ],
   "source": [
    "conf_true = 0\n",
    "conf_pred = 6\n",
    "d = dataloader.dataset\n",
    "\n",
    "max_rows=2\n",
    "\n",
    "indices = np.where((labels==conf_true) * (predicted==conf_pred))[0]\n",
    "if len(indices) <= 16:\n",
    "    fig, ax = plt.subplots(2, len(indices), figsize=(4*len(indices)/2,4))\n",
    "    if(len(indices)==1):\n",
    "        ax = np.array(ax).reshape(2,1)\n",
    "else:\n",
    "    factor = len(indices) // 16\n",
    "    factor = min(max_rows, factor)\n",
    "    fig, ax = plt.subplots(2*factor, 16, figsize=(32,4*factor))\n",
    "    rf_ax = []\n",
    "    bar_ax = []\n",
    "    for i in range(factor):\n",
    "        rf_ax.extend(ax[i*2])\n",
    "        bar_ax.extend(ax[i*2+1])\n",
    "    ax = np.array([rf_ax, bar_ax])\n",
    "\n",
    "fig.suptitle(id_to_class[conf_true] + \" -> \" + id_to_class[conf_pred])\n",
    "for ind, ax0, ax1 in zip(indices, ax[0], ax[1]):\n",
    "    test_img, label = d[ind]\n",
    "    ax0.imshow(transforms.Compose([ColorRescale(),transforms.Resize((32,32), interpolation=transforms.InterpolationMode.NEAREST, antialias=None)])(test_img).movedim(0,2))\n",
    "    ax0.set_axis_off()\n",
    "    try:\n",
    "        filename = os.path.split(d.samples[ind][0])[1]\n",
    "        ax0.set_title(filename+\", \"+str(ind))\n",
    "    except:\n",
    "        ax0.set_title(ind)\n",
    "\n",
    "    result = outputs[ind]\n",
    "    ax1.bar(data.classes,result)\n",
    "    if ax1 != ax[1,0]:\n",
    "        ax1.sharey(ax[1,0])\n",
    "        ax1.tick_params(labelleft=False)\n",
    "    ax1.set_xticks([i for i in range(len(data.classes))])\n",
    "    ax1.set_xticklabels(data.classes,rotation=90, ha='center')\n",
    "plt.show()"
   ]
  },
  {
   "cell_type": "code",
   "execution_count": null,
   "metadata": {},
   "outputs": [
    {
     "ename": "",
     "evalue": "",
     "output_type": "error",
     "traceback": [
      "\u001b[1;31mFailed to start the Kernel. \n",
      "\u001b[1;31m'_xsrf' argument missing from POST. \n",
      "\u001b[1;31mView Jupyter <a href='command:jupyter.viewOutput'>log</a> for further details."
     ]
    }
   ],
   "source": [
    "img_no = 1368\n",
    "img = ColorRescale()(d[img_no][0].movedim(0,2))\n",
    "fig, axes = plt.subplots(1,5)\n",
    "axes[0].imshow(img)\n",
    "axes[0].set_title(\"Original\")\n",
    "axes[1].imshow(np.average(img, axis=-1), cmap=\"gray\")\n",
    "axes[1].set_title(\"Greyscale\")\n",
    "axes[2].imshow(img[...,0], cmap=\"gray\")\n",
    "axes[2].set_title(\"R\")\n",
    "axes[3].imshow(img[...,1], cmap=\"gray\")\n",
    "axes[3].set_title(\"G\")\n",
    "axes[4].imshow(img[...,2], cmap=\"gray\")\n",
    "axes[4].set_title(\"B\")\n",
    "\n",
    "for ax in axes:\n",
    "    ax.axis('off')"
   ]
  },
  {
   "cell_type": "code",
   "execution_count": null,
   "metadata": {},
   "outputs": [
    {
     "ename": "",
     "evalue": "",
     "output_type": "error",
     "traceback": [
      "\u001b[1;31mFailed to start the Kernel. \n",
      "\u001b[1;31m'_xsrf' argument missing from POST. \n",
      "\u001b[1;31mView Jupyter <a href='command:jupyter.viewOutput'>log</a> for further details."
     ]
    }
   ],
   "source": [
    "aa"
   ]
  },
  {
   "cell_type": "code",
   "execution_count": null,
   "metadata": {},
   "outputs": [
    {
     "ename": "",
     "evalue": "",
     "output_type": "error",
     "traceback": [
      "\u001b[1;31mFailed to start the Kernel. \n",
      "\u001b[1;31m'_xsrf' argument missing from POST. \n",
      "\u001b[1;31mView Jupyter <a href='command:jupyter.viewOutput'>log</a> for further details."
     ]
    }
   ],
   "source": [
    "from skimage.metrics import structural_similarity as ssim\n",
    "from sklearn.metrics import pairwise_distances"
   ]
  },
  {
   "cell_type": "code",
   "execution_count": null,
   "metadata": {},
   "outputs": [
    {
     "ename": "",
     "evalue": "",
     "output_type": "error",
     "traceback": [
      "\u001b[1;31mFailed to start the Kernel. \n",
      "\u001b[1;31m'_xsrf' argument missing from POST. \n",
      "\u001b[1;31mView Jupyter <a href='command:jupyter.viewOutput'>log</a> for further details."
     ]
    }
   ],
   "source": [
    "imgs, labels = next(iter(dataloader))"
   ]
  },
  {
   "cell_type": "code",
   "execution_count": null,
   "metadata": {},
   "outputs": [
    {
     "ename": "",
     "evalue": "",
     "output_type": "error",
     "traceback": [
      "\u001b[1;31mFailed to start the Kernel. \n",
      "\u001b[1;31m'_xsrf' argument missing from POST. \n",
      "\u001b[1;31mView Jupyter <a href='command:jupyter.viewOutput'>log</a> for further details."
     ]
    }
   ],
   "source": [
    "n, c, w, h = imgs.shape"
   ]
  },
  {
   "cell_type": "code",
   "execution_count": null,
   "metadata": {},
   "outputs": [
    {
     "ename": "",
     "evalue": "",
     "output_type": "error",
     "traceback": [
      "\u001b[1;31mFailed to start the Kernel. \n",
      "\u001b[1;31m'_xsrf' argument missing from POST. \n",
      "\u001b[1;31mView Jupyter <a href='command:jupyter.viewOutput'>log</a> for further details."
     ]
    }
   ],
   "source": [
    "dist_mat = pairwise_distances(imgs.flatten(start_dim=1).numpy(), metric= lambda x, y:ssim(x.reshape(c,w,h),y.reshape(c,w,h),data_range=2,channel_axis=0))"
   ]
  },
  {
   "cell_type": "code",
   "execution_count": null,
   "metadata": {},
   "outputs": [
    {
     "ename": "",
     "evalue": "",
     "output_type": "error",
     "traceback": [
      "\u001b[1;31mFailed to start the Kernel. \n",
      "\u001b[1;31m'_xsrf' argument missing from POST. \n",
      "\u001b[1;31mView Jupyter <a href='command:jupyter.viewOutput'>log</a> for further details."
     ]
    }
   ],
   "source": [
    "sns.heatmap(dist_mat)\n",
    "plt.title(\"ssim matrix\")\n",
    "plt.show()"
   ]
  },
  {
   "cell_type": "code",
   "execution_count": null,
   "metadata": {},
   "outputs": [
    {
     "ename": "",
     "evalue": "",
     "output_type": "error",
     "traceback": [
      "\u001b[1;31mFailed to start the Kernel. \n",
      "\u001b[1;31m'_xsrf' argument missing from POST. \n",
      "\u001b[1;31mView Jupyter <a href='command:jupyter.viewOutput'>log</a> for further details."
     ]
    }
   ],
   "source": [
    "euclid_dist_mat = pairwise_distances(imgs.flatten(start_dim=1).numpy(), metric='euclidean')"
   ]
  },
  {
   "cell_type": "code",
   "execution_count": null,
   "metadata": {},
   "outputs": [
    {
     "ename": "",
     "evalue": "",
     "output_type": "error",
     "traceback": [
      "\u001b[1;31mFailed to start the Kernel. \n",
      "\u001b[1;31m'_xsrf' argument missing from POST. \n",
      "\u001b[1;31mView Jupyter <a href='command:jupyter.viewOutput'>log</a> for further details."
     ]
    }
   ],
   "source": [
    "sns.heatmap(euclid_dist_mat)\n",
    "plt.title(\"euclid distance matrix\")\n",
    "plt.show()"
   ]
  },
  {
   "cell_type": "code",
   "execution_count": null,
   "metadata": {},
   "outputs": [
    {
     "ename": "",
     "evalue": "",
     "output_type": "error",
     "traceback": [
      "\u001b[1;31mFailed to start the Kernel. \n",
      "\u001b[1;31m'_xsrf' argument missing from POST. \n",
      "\u001b[1;31mView Jupyter <a href='command:jupyter.viewOutput'>log</a> for further details."
     ]
    }
   ],
   "source": [
    "tsne = TSNE(2,init='random', metric='precomputed').fit_transform(1-dist_mat)"
   ]
  },
  {
   "cell_type": "code",
   "execution_count": null,
   "metadata": {},
   "outputs": [
    {
     "ename": "",
     "evalue": "",
     "output_type": "error",
     "traceback": [
      "\u001b[1;31mFailed to start the Kernel. \n",
      "\u001b[1;31m'_xsrf' argument missing from POST. \n",
      "\u001b[1;31mView Jupyter <a href='command:jupyter.viewOutput'>log</a> for further details."
     ]
    }
   ],
   "source": [
    "import matplotlib as mpl\n",
    "\n",
    "scatter = plt.scatter(tsne[:,0],tsne[:,1],c=labels, cmap=mpl.colormaps['Accent'])\n",
    "plt.legend(labels = data.classes, handles=scatter.legend_elements()[0], loc='center left', bbox_to_anchor=(1, 0.5))"
   ]
  },
  {
   "cell_type": "code",
   "execution_count": null,
   "metadata": {},
   "outputs": [
    {
     "ename": "",
     "evalue": "",
     "output_type": "error",
     "traceback": [
      "\u001b[1;31mFailed to start the Kernel. \n",
      "\u001b[1;31m'_xsrf' argument missing from POST. \n",
      "\u001b[1;31mView Jupyter <a href='command:jupyter.viewOutput'>log</a> for further details."
     ]
    }
   ],
   "source": [
    "plt.title(\"average color\")\n",
    "plt.scatter(tsne[:,0],tsne[:,1],s=10,c=(np.mean(imgs.numpy(), axis=(2,3))+1)/2)"
   ]
  },
  {
   "cell_type": "code",
   "execution_count": null,
   "metadata": {},
   "outputs": [
    {
     "ename": "",
     "evalue": "",
     "output_type": "error",
     "traceback": [
      "\u001b[1;31mFailed to start the Kernel. \n",
      "\u001b[1;31m'_xsrf' argument missing from POST. \n",
      "\u001b[1;31mView Jupyter <a href='command:jupyter.viewOutput'>log</a> for further details."
     ]
    }
   ],
   "source": [
    "scatter = plt.scatter(tsne[:,0],tsne[:,1],c=(imgs[:,:,w//2,h//2]+1)/2)\n",
    "plt.title(\"value of central pixel\")"
   ]
  }
 ],
 "metadata": {
  "kernelspec": {
   "display_name": "rf-classifier",
   "language": "python",
   "name": "python3"
  },
  "language_info": {
   "codemirror_mode": {
    "name": "ipython",
    "version": 3
   },
   "file_extension": ".py",
   "mimetype": "text/x-python",
   "name": "python",
   "nbconvert_exporter": "python",
   "pygments_lexer": "ipython3",
   "version": "3.12.2"
  }
 },
 "nbformat": 4,
 "nbformat_minor": 2
}
